{
 "cells": [
  {
   "cell_type": "code",
   "execution_count": null,
   "id": "ca0c4129-0e80-4dd9-b7c6-94b7baf13f45",
   "metadata": {},
   "outputs": [],
   "source": [
    "phone_book={\n",
    "    \"1111111111\":\"Amal\",\n",
    "    \"2222222222\":\"Mohamed\",\n",
    "    \"3333333333\":\"Khadijah\",\n",
    "    \"4444444444\":\"Abdullah\",\n",
    "    \"5555555555\":\"Rawan\",\n",
    "    \"6666666666\":\"Faisal\",\n",
    "    \"7777777777\":\"Layla\"\n",
    "}\n",
    "ask=input(\"Please enter a phone number\")\n",
    "\n",
    "try:\n",
    "    int(ask)\n",
    "except :\n",
    "    print(\"This is invalid number\")\n",
    "\n",
    "\n",
    "if len(ask)!=10:\n",
    "    print(\"This is invalid number\")\n",
    "elif ask not in phone_book:\n",
    "    print(\"Sorry, the number is not found\")\n",
    "else:\n",
    "    print(phone_book[ask])"
   ]
  }
 ],
 "metadata": {
  "kernelspec": {
   "display_name": "Python 3 (ipykernel)",
   "language": "python",
   "name": "python3"
  },
  "language_info": {
   "codemirror_mode": {
    "name": "ipython",
    "version": 3
   },
   "file_extension": ".py",
   "mimetype": "text/x-python",
   "name": "python",
   "nbconvert_exporter": "python",
   "pygments_lexer": "ipython3",
   "version": "3.10.11"
  }
 },
 "nbformat": 4,
 "nbformat_minor": 5
}
