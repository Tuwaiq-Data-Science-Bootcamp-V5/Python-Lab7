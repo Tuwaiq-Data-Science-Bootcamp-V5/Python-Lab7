{
  "nbformat": 4,
  "nbformat_minor": 0,
  "metadata": {
    "colab": {
      "provenance": []
    },
    "kernelspec": {
      "name": "python3",
      "display_name": "Python 3"
    },
    "language_info": {
      "name": "python"
    }
  },
  "cells": [
    {
      "cell_type": "code",
      "execution_count": 25,
      "metadata": {
        "colab": {
          "base_uri": "https://localhost:8080/"
        },
        "id": "MEj7Hl6loC2N",
        "outputId": "0dd3cc8c-0799-480f-e6bc-46b2935cbb6d"
      },
      "outputs": [
        {
          "output_type": "stream",
          "name": "stdout",
          "text": [
            "Enter a phone number: @\n",
            "This is invalid number\n"
          ]
        }
      ],
      "source": [
        "phoneBook = {\n",
        "    'names': ['Amal', 'Mohammed', 'Khadijah', 'Abdullah', 'Rawan', 'Faisal', 'Layla'],\n",
        "    'num': [1111111111, 2222222222, 3333333333, 4444444444, 5555555555, 6666666666, 7777777777]\n",
        "}\n",
        "ownerNum = input(\"Enter a phone number: \")\n",
        "try:\n",
        "    ownerNum = int(ownerNum)\n",
        "    if not isinstance(ownerNum, int) or len(str(ownerNum)) != 10:\n",
        "        print(\"This is invalid number\")\n",
        "    else:\n",
        "        found = False\n",
        "        for i in range(len(phoneBook['num'])):\n",
        "            if phoneBook['num'][i] == ownerNum:\n",
        "                print(\"The owner of the number:\", phoneBook['names'][i])\n",
        "                found = True\n",
        "                break\n",
        "        if not found:\n",
        "            print(\"Sorry, the number is not found\")\n",
        "except ValueError:\n",
        "    print(\"This is invalid number\")"
      ]
    }
  ]
}