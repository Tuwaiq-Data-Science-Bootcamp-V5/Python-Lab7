{
 "cells": [
  {
   "cell_type": "code",
   "execution_count": 2,
   "id": "d21e8b8e",
   "metadata": {},
   "outputs": [
    {
     "ename": "SyntaxError",
     "evalue": "unterminated string literal (detected at line 1) (192528204.py, line 1)",
     "output_type": "error",
     "traceback": [
      "\u001b[1;36m  Cell \u001b[1;32mIn[2], line 1\u001b[1;36m\u001b[0m\n\u001b[1;33m    phone_book = {amal\" : \"1111111111\" , \"mohammed : \"2222222222\" , \"khadijah\" : \"33333333333\", \"abdullah\" : \"4444444444\" , \"rawan : \"5555555555\" : \"faisal\" : \"6666666666\" ,\u001b[0m\n\u001b[1;37m                                                                                                                                                                          ^\u001b[0m\n\u001b[1;31mSyntaxError\u001b[0m\u001b[1;31m:\u001b[0m unterminated string literal (detected at line 1)\n"
     ]
    }
   ],
   "source": []
  },
  {
   "cell_type": "code",
   "execution_count": 3,
   "id": "5a7af9fa",
   "metadata": {},
   "outputs": [
    {
     "name": "stdout",
     "output_type": "stream",
     "text": [
      "{'amal': '1111111111', 'mohammed': '2222222222', 'khadijah': '3333333333', 'abdullah': '4444444444', 'rawan': '5555555555', 'faisal': '6666666666', 'layla': '7777777777'}\n"
     ]
    }
   ],
   "source": [
    "phone_book = {\"amal\" : \"1111111111\" , \"mohammed\" : \"2222222222\" ,\n",
    "               \"khadijah\" : \"3333333333\" , \"abdullah\" : \"4444444444\" ,\n",
    "               \"rawan\" : \"5555555555\" , \"faisal\" : \"6666666666\" ,\n",
    "                \"layla\" : \"7777777777\"} \n",
    "print(phone_book)"
   ]
  },
  {
   "cell_type": "code",
   "execution_count": 5,
   "id": "fa89309b",
   "metadata": {},
   "outputs": [
    {
     "name": "stdout",
     "output_type": "stream",
     "text": [
      "Enter the phone number: 2222222222\n",
      "The owner of the number is: mohammed\n"
     ]
    }
   ],
   "source": [
    "def find_owner(phone_number):\n",
    "    if not phone_number.isdigit():\n",
    "        print(\"This is an invalid number.\")\n",
    "        return\n",
    "\n",
    "    if len(phone_number) != 10:\n",
    "        print(\"This is an invalid number.\")\n",
    "        return\n",
    "\n",
    "    if phone_number in phone_book.values():\n",
    "        for name, number in phone_book.items():\n",
    "            if number == phone_number:\n",
    "                print(\"The owner of the number is:\", name)\n",
    "                return\n",
    "    else:\n",
    "        print(\"Sorry, the number is not found.\")\n",
    "\n",
    "phone_number = input(\"Enter the phone number: \")\n",
    "find_owner(phone_number)"
   ]
  },
  {
   "cell_type": "code",
   "execution_count": null,
   "id": "6c5ea802",
   "metadata": {},
   "outputs": [],
   "source": []
  },
  {
   "cell_type": "code",
   "execution_count": null,
   "id": "46a80590",
   "metadata": {},
   "outputs": [],
   "source": []
  }
 ],
 "metadata": {
  "kernelspec": {
   "display_name": "Python 3 (ipykernel)",
   "language": "python",
   "name": "python3"
  },
  "language_info": {
   "codemirror_mode": {
    "name": "ipython",
    "version": 3
   },
   "file_extension": ".py",
   "mimetype": "text/x-python",
   "name": "python",
   "nbconvert_exporter": "python",
   "pygments_lexer": "ipython3",
   "version": "3.11.5"
  }
 },
 "nbformat": 4,
 "nbformat_minor": 5
}
