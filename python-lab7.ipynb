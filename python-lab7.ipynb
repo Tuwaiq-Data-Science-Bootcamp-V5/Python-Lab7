{
 "cells": [
  {
   "cell_type": "code",
   "execution_count": 67,
   "id": "f457cb53",
   "metadata": {},
   "outputs": [
    {
     "name": "stdout",
     "output_type": "stream",
     "text": [
      "3\n",
      "abdullah\n"
     ]
    }
   ],
   "source": [
    "dirc = {\n",
    "    'name' : ['amal', 'mohammed', 'khadiah','abdullah', 'rawan' , 'faisal', 'layla'],\n",
    "    'number' : ['1111111111', '2222222222' , '333333333333', '4444444444', '555555555555', '6666666666', '7777777777']\n",
    "}\n",
    "num =9\n",
    "y = '4444444444'\n",
    "if not y.isnumeric():\n",
    "    print(\"This is invalid number\")\n",
    "if len(y) < 10 or len(y) > 10:\n",
    "    print(f'you enterd {len(y)} numbers it must be 10.')\n",
    "    \n",
    "x = dirc.get('number')\n",
    "for i in range(len(x)):\n",
    "    if y == x[i]:\n",
    "        num = i\n",
    "try:\n",
    "    if num == 9 and len(y) == 10:\n",
    "        print(\"Sorry, the number is not found\")\n",
    "    if num != 9:    \n",
    "        print(num)\n",
    "        x = dirc.get('name')\n",
    "        print(x[num])\n",
    "except: \n",
    "    print()"
   ]
  }
 ],
 "metadata": {
  "kernelspec": {
   "display_name": "Python 3 (ipykernel)",
   "language": "python",
   "name": "python3"
  },
  "language_info": {
   "codemirror_mode": {
    "name": "ipython",
    "version": 3
   },
   "file_extension": ".py",
   "mimetype": "text/x-python",
   "name": "python",
   "nbconvert_exporter": "python",
   "pygments_lexer": "ipython3",
   "version": "3.9.12"
  }
 },
 "nbformat": 4,
 "nbformat_minor": 5
}
