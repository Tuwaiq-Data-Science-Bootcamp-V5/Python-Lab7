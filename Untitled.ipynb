{
 "cells": [
  {
   "cell_type": "code",
   "execution_count": 9,
   "id": "76bb4156-664a-4052-95c4-38dd57414c6d",
   "metadata": {},
   "outputs": [
    {
     "name": "stdin",
     "output_type": "stream",
     "text": [
      "Enter the phone number:  1111111111\n"
     ]
    },
    {
     "data": {
      "text/plain": [
       "'Amal'"
      ]
     },
     "execution_count": 9,
     "metadata": {},
     "output_type": "execute_result"
    }
   ],
   "source": [
    "def get_key(val):\n",
    "   for key, value in program.items():\n",
    "      if val == value:\n",
    "         return key\n",
    "   return \"key doesn't exist\"\n",
    "\n",
    "\n",
    "\n",
    "\n",
    "program = {\n",
    "    \"Amal\": \"1111111111\",\n",
    "    \"Mohammed\": \"2222222222\",\n",
    "    \"Khadijah\": \"3333333333\",\n",
    "    \"Abdullah\": \"4444444444\",\n",
    "    \"Rawan\": \"5555555555\",\n",
    "    \"Faisal\": \"6666666666\",\n",
    "    \"Layla\": \"7777777777\"\n",
    "}\n",
    "phone_number = input(\"Enter the phone number: \")\n",
    "get_key(phone_number)"
   ]
  },
  {
   "cell_type": "code",
   "execution_count": null,
   "id": "c22fec56-2997-4289-b8a6-5db74e4e9da7",
   "metadata": {},
   "outputs": [],
   "source": []
  }
 ],
 "metadata": {
  "kernelspec": {
   "display_name": "Python 3 (ipykernel)",
   "language": "python",
   "name": "python3"
  },
  "language_info": {
   "codemirror_mode": {
    "name": "ipython",
    "version": 3
   },
   "file_extension": ".py",
   "mimetype": "text/x-python",
   "name": "python",
   "nbconvert_exporter": "python",
   "pygments_lexer": "ipython3",
   "version": "3.9.13"
  }
 },
 "nbformat": 4,
 "nbformat_minor": 5
}
